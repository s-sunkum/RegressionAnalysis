{
 "cells": [
  {
   "cell_type": "markdown",
   "metadata": {},
   "source": [
    "# Regression Analysis\n",
    "\n",
    "Proper linear regression analysis on some interesting data. \n",
    "\n",
    "The data can be found here:  https://www.kaggle.com/uciml/red-wine-quality-cortez-et-al-2009. The goal of this analysis is to the various properties of the wine to explain it's ultimate \"quality\" using a linear model.\n"
   ]
  },
  {
   "cell_type": "markdown",
   "metadata": {},
   "source": [
    "# Name: Shravun Sunkum"
   ]
  },
  {
   "cell_type": "code",
   "execution_count": 274,
   "metadata": {},
   "outputs": [],
   "source": [
    "#Here are the imports I use\n",
    "import pandas as pd \n",
    "from sklearn.model_selection import train_test_split \n",
    "from sklearn.linear_model import LinearRegression \n",
    "from sklearn import metrics \n",
    "import matplotlib.pyplot as plt \n",
    "import numpy as np \n",
    "import seaborn as sns"
   ]
  },
  {
   "cell_type": "code",
   "execution_count": 275,
   "metadata": {},
   "outputs": [
    {
     "data": {
      "text/html": [
       "<div>\n",
       "<style scoped>\n",
       "    .dataframe tbody tr th:only-of-type {\n",
       "        vertical-align: middle;\n",
       "    }\n",
       "\n",
       "    .dataframe tbody tr th {\n",
       "        vertical-align: top;\n",
       "    }\n",
       "\n",
       "    .dataframe thead th {\n",
       "        text-align: right;\n",
       "    }\n",
       "</style>\n",
       "<table border=\"1\" class=\"dataframe\">\n",
       "  <thead>\n",
       "    <tr style=\"text-align: right;\">\n",
       "      <th></th>\n",
       "      <th>fixed acidity</th>\n",
       "      <th>volatile acidity</th>\n",
       "      <th>citric acid</th>\n",
       "      <th>residual sugar</th>\n",
       "      <th>chlorides</th>\n",
       "      <th>free sulfur dioxide</th>\n",
       "      <th>total sulfur dioxide</th>\n",
       "      <th>density</th>\n",
       "      <th>pH</th>\n",
       "      <th>sulphates</th>\n",
       "      <th>alcohol</th>\n",
       "      <th>quality</th>\n",
       "    </tr>\n",
       "  </thead>\n",
       "  <tbody>\n",
       "    <tr>\n",
       "      <th>0</th>\n",
       "      <td>7.4</td>\n",
       "      <td>0.70</td>\n",
       "      <td>0.00</td>\n",
       "      <td>1.9</td>\n",
       "      <td>0.076</td>\n",
       "      <td>11.0</td>\n",
       "      <td>34.0</td>\n",
       "      <td>0.9978</td>\n",
       "      <td>3.51</td>\n",
       "      <td>0.56</td>\n",
       "      <td>9.4</td>\n",
       "      <td>5</td>\n",
       "    </tr>\n",
       "    <tr>\n",
       "      <th>1</th>\n",
       "      <td>7.8</td>\n",
       "      <td>0.88</td>\n",
       "      <td>0.00</td>\n",
       "      <td>2.6</td>\n",
       "      <td>0.098</td>\n",
       "      <td>25.0</td>\n",
       "      <td>67.0</td>\n",
       "      <td>0.9968</td>\n",
       "      <td>3.20</td>\n",
       "      <td>0.68</td>\n",
       "      <td>9.8</td>\n",
       "      <td>5</td>\n",
       "    </tr>\n",
       "    <tr>\n",
       "      <th>2</th>\n",
       "      <td>7.8</td>\n",
       "      <td>0.76</td>\n",
       "      <td>0.04</td>\n",
       "      <td>2.3</td>\n",
       "      <td>0.092</td>\n",
       "      <td>15.0</td>\n",
       "      <td>54.0</td>\n",
       "      <td>0.9970</td>\n",
       "      <td>3.26</td>\n",
       "      <td>0.65</td>\n",
       "      <td>9.8</td>\n",
       "      <td>5</td>\n",
       "    </tr>\n",
       "    <tr>\n",
       "      <th>3</th>\n",
       "      <td>11.2</td>\n",
       "      <td>0.28</td>\n",
       "      <td>0.56</td>\n",
       "      <td>1.9</td>\n",
       "      <td>0.075</td>\n",
       "      <td>17.0</td>\n",
       "      <td>60.0</td>\n",
       "      <td>0.9980</td>\n",
       "      <td>3.16</td>\n",
       "      <td>0.58</td>\n",
       "      <td>9.8</td>\n",
       "      <td>6</td>\n",
       "    </tr>\n",
       "    <tr>\n",
       "      <th>4</th>\n",
       "      <td>7.4</td>\n",
       "      <td>0.70</td>\n",
       "      <td>0.00</td>\n",
       "      <td>1.9</td>\n",
       "      <td>0.076</td>\n",
       "      <td>11.0</td>\n",
       "      <td>34.0</td>\n",
       "      <td>0.9978</td>\n",
       "      <td>3.51</td>\n",
       "      <td>0.56</td>\n",
       "      <td>9.4</td>\n",
       "      <td>5</td>\n",
       "    </tr>\n",
       "  </tbody>\n",
       "</table>\n",
       "</div>"
      ],
      "text/plain": [
       "   fixed acidity  volatile acidity  citric acid  residual sugar  chlorides  \\\n",
       "0            7.4              0.70         0.00             1.9      0.076   \n",
       "1            7.8              0.88         0.00             2.6      0.098   \n",
       "2            7.8              0.76         0.04             2.3      0.092   \n",
       "3           11.2              0.28         0.56             1.9      0.075   \n",
       "4            7.4              0.70         0.00             1.9      0.076   \n",
       "\n",
       "   free sulfur dioxide  total sulfur dioxide  density    pH  sulphates  \\\n",
       "0                 11.0                  34.0   0.9978  3.51       0.56   \n",
       "1                 25.0                  67.0   0.9968  3.20       0.68   \n",
       "2                 15.0                  54.0   0.9970  3.26       0.65   \n",
       "3                 17.0                  60.0   0.9980  3.16       0.58   \n",
       "4                 11.0                  34.0   0.9978  3.51       0.56   \n",
       "\n",
       "   alcohol  quality  \n",
       "0      9.4        5  \n",
       "1      9.8        5  \n",
       "2      9.8        5  \n",
       "3      9.8        6  \n",
       "4      9.4        5  "
      ]
     },
     "execution_count": 275,
     "metadata": {},
     "output_type": "execute_result"
    }
   ],
   "source": [
    "#Using pandas, we can read the winequality data and pass it into a dataframe\n",
    "df = pd.read_csv('winequality-red.csv')\n",
    "#We can see some of the data with this call\n",
    "df.head()"
   ]
  },
  {
   "cell_type": "code",
   "execution_count": 276,
   "metadata": {},
   "outputs": [
    {
     "data": {
      "image/png": "[encoded data removed]",
      "text/plain": [
       "<Figure size 432x288 with 2 Axes>"
      ]
     },
     "metadata": {
      "needs_background": "light"
     },
     "output_type": "display_data"
    }
   ],
   "source": [
    "# .heatmap() shows us a clear graph of the correlation, which is done here\n",
    "sns.heatmap(df.corr())\n",
    "plt.show()"
   ]
  },
  {
   "cell_type": "code",
   "execution_count": 329,
   "metadata": {},
   "outputs": [],
   "source": [
    "#I've defined a function that takes a threshold value and gives us features with correlations above this value.\n",
    "def findFeature(thresh):\n",
    "    absCorr = correlations.abs()\n",
    "    corrList = absCorr[absCorr > thresh].index.values.tolist()\n",
    "    #Based on the threshold we return the list\n",
    "    return corrList"
   ]
  },
  {
   "cell_type": "code",
   "execution_count": 330,
   "metadata": {},
   "outputs": [],
   "source": [
    "#Now we must call the function. After some experimentation I found a threshold value of 0.05 to be best\n",
    "features = findFeature(0.05)  \n",
    "x = df[features] \n",
    "y = df['quality']"
   ]
  },
  {
   "cell_type": "code",
   "execution_count": 331,
   "metadata": {},
   "outputs": [
    {
     "name": "stdout",
     "output_type": "stream",
     "text": [
      "Here are the features chosen:  ['fixed acidity', 'volatile acidity', 'citric acid', 'chlorides', 'free sulfur dioxide', 'total sulfur dioxide', 'density', 'pH', 'sulphates', 'alcohol']\n"
     ]
    }
   ],
   "source": [
    "print(\"Here are the features chosen: \", features)"
   ]
  },
  {
   "cell_type": "code",
   "execution_count": 332,
   "metadata": {
    "scrolled": false
   },
   "outputs": [],
   "source": [
    "#Sklearn model has train_test_split() which allows us to split the data into training and testing. \n",
    "xTraining,xTesting,yTraining,yTesting=train_test_split(x,y,random_state=3)"
   ]
  },
  {
   "cell_type": "code",
   "execution_count": 333,
   "metadata": {},
   "outputs": [
    {
     "name": "stdout",
     "output_type": "stream",
     "text": [
      "[ 0.01773723 -0.99256049 -0.13962865 -1.59094279  0.00559652 -0.00351973\n",
      "  0.76859036 -0.43741414  0.81288805  0.30148385]\n"
     ]
    }
   ],
   "source": [
    "# We then use linear regression to fit the data\n",
    "reg = LinearRegression()\n",
    "reg.fit(xTraining,yTraining)\n",
    "print(reg.coef_)"
   ]
  },
  {
   "cell_type": "code",
   "execution_count": 334,
   "metadata": {},
   "outputs": [
    {
     "name": "stdout",
     "output_type": "stream",
     "text": [
      "Here is the training prediction: \n",
      "[5.33777144 5.33826411 5.9503318  ... 6.3903182  6.19979375 5.27597259]\n",
      "\n",
      "\n",
      "Here is the testing prediction: \n",
      "[5.10801475 5.65933623 5.90407267 6.13461179 5.00611866 5.44514691\n",
      " 5.05735245 6.15497513 5.51919603 5.77259374 5.61809366 5.23616173\n",
      " 5.23544213 5.31968644 6.47007277 5.043404   5.85287121 5.19427909\n",
      " 6.07727089 6.34949018 6.42525555 5.51221957 5.8030796  4.93637817\n",
      " 5.16618356 5.48255293 5.13758624 6.60000969 5.88754763 5.74133915\n",
      " 6.09716961 6.29379754 4.91269821 5.88611904 5.11007273 5.94574773\n",
      " 6.80685536 5.04305653 5.25438683 5.88611904 5.17406542 4.84008442\n",
      " 6.48781656 5.40521715 5.31105571 5.84484462 5.7100681  5.24300809\n",
      " 5.25021217 5.46398911 5.08740494 5.61369555 6.01375792 6.32497377\n",
      " 5.47511954 5.36466869 5.09234555 4.92625623 5.21415941 5.08274744\n",
      " 4.79570013 5.4377645  5.25237771 5.68830391 5.85145609 6.52420079\n",
      " 5.38691412 5.71775637 5.17641417 5.99156845 5.6445189  5.60892012\n",
      " 5.74967567 5.21702288 5.97975854 5.51115845 5.41121547 5.6832459\n",
      " 5.63971524 5.74133915 6.24163428 5.27915822 4.66596769 6.04951743\n",
      " 5.52401618 5.17823915 5.20672986 5.96322663 5.50411353 5.64866275\n",
      " 5.70105618 5.6431575  5.72586828 5.3173125  5.37075392 5.394889\n",
      " 4.82061159 5.46006525 5.47363879 6.54074801 6.13723937 5.61422461\n",
      " 6.07821503 6.17461539 5.73230665 4.92692198 4.73317591 5.03851027\n",
      " 5.44868797 5.78432759 6.46608259 5.47530673 6.46876056 5.94466642\n",
      " 5.43257493 5.20523855 5.34551741 5.20749557 6.19344578 5.61453943\n",
      " 5.83308923 5.20267759 5.17702922 5.26912156 5.74382704 5.6431575\n",
      " 6.15450941 5.89677877 5.49186029 5.39047629 5.25848318 5.41150099\n",
      " 5.70750135 5.68001376 6.58288921 5.89497164 6.37172338 5.72945992\n",
      " 5.37936908 5.14371952 5.58851063 6.59661777 5.24403336 5.25594627\n",
      " 5.54721935 5.17243958 5.76990082 6.10847777 6.93985005 4.99562031\n",
      " 5.01958735 4.68547026 5.82434616 5.01708671 5.21702288 5.70819215\n",
      " 5.63334181 5.33481542 5.22220103 5.84327644 5.61823023 5.78078643\n",
      " 5.51830906 6.03898671 5.63808482 5.49193476 5.96787582 4.82363567\n",
      " 5.26331016 5.6625652  5.73510278 6.59570394 5.02584187 5.9062506\n",
      " 5.85381667 5.21140744 5.68951564 5.51649995 5.40521715 6.37974889\n",
      " 6.71642336 4.98858413 5.88413601 5.75553621 5.75508093 5.61677128\n",
      " 5.71318209 5.40944809 6.05634078 5.58276397 5.88366084 6.51928901\n",
      " 5.00668628 5.4022397  5.18103224 5.17641417 5.47511954 5.7498414\n",
      " 5.69035164 4.92770738 5.12908401 4.98756458 6.18242395 5.65384546\n",
      " 5.45261211 5.56461849 4.99367423 5.8451887  5.31537513 5.48096741\n",
      " 5.69721582 5.63441998 5.69158339 5.82596777 5.79120742 6.02976291\n",
      " 6.20119324 5.2711036  5.04432824 5.21865445 5.38560996 4.97814926\n",
      " 6.21495495 5.44287205 5.94855371 5.21554859 6.61250215 5.08358009\n",
      " 5.29397027 5.0345619  6.16924449 5.78078489 4.85807345 5.74347603\n",
      " 5.29957538 5.35504601 5.17674741 6.30056659 5.58203663 4.95859588\n",
      " 6.10234044 6.03135183 6.16235396 5.41939397 6.76220041 6.20905743\n",
      " 6.08858508 5.2295158  5.45339068 5.54357835 5.35504601 5.24163328\n",
      " 5.74950618 5.25054347 6.1317778  5.42684978 5.84929436 4.82101128\n",
      " 6.06442799 5.06580635 6.43296901 6.06017586 5.69914195 5.70750135\n",
      " 4.90849494 6.00470504 5.28204515 5.70851728 5.42245606 5.12401141\n",
      " 6.4859156  5.3065303  5.97368396 5.64309435 6.49134579 6.20544121\n",
      " 5.09817253 5.47044255 5.30164692 5.24148223 6.37172338 5.38111102\n",
      " 5.41238036 6.00040309 4.98474017 5.89003832 5.35695446 5.18204386\n",
      " 5.43418226 5.92040958 4.83001281 6.84476407 5.17004942 4.90738182\n",
      " 5.71686848 5.6789345  5.30006437 6.28821696 6.8852049  6.5809374\n",
      " 5.94544069 6.3372236  5.90511355 5.56832499 6.0037674  5.51592572\n",
      " 5.47416032 5.73230665 5.31523101 5.15200739 6.22058683 5.30080495\n",
      " 6.2234137  6.09823805 5.86965547 5.42671619 4.83521332 6.04105625\n",
      " 5.17954177 5.11991572 6.45483786 5.50117269 6.75189479 5.112668\n",
      " 5.16698378 5.30775351 5.71062442 5.10611189 5.54132974 5.3123985\n",
      " 5.16102307 4.95778371 5.4565424  5.38281735 5.34456446 5.18064244\n",
      " 6.11817384 5.624629   5.7335454  6.34845774 5.90187012 5.51649995\n",
      " 5.69382597 5.14872878 5.70431206 6.40518994 6.17170859 5.46670957\n",
      " 6.06382552 5.69529022 6.24040985 5.24148223 5.5445765  5.04703379\n",
      " 4.99563993 5.07398398 5.81020153 5.40277302 5.9958201  5.1304824\n",
      " 6.51949038 5.39875246 5.49117974 5.64759732 5.52711217 5.27288466\n",
      " 6.49134579 5.83141585 5.03473182 5.24121201 5.49075176 5.27342775\n",
      " 5.5118796  5.04396982 5.29167137 5.46007816 5.36402691 6.12719352\n",
      " 4.99200331 5.30164692 6.08655307 5.20523855 5.13058231 4.66155684\n",
      " 6.15823093 6.15917286 6.50582017 5.80335212 5.74347603 6.39828821\n",
      " 6.14436092 5.88754763 6.05466721 6.03231119 5.36683868 5.41989769\n",
      " 5.61706715 5.4057693  5.76283208 5.2734642 ]\n",
      "\n",
      "\n"
     ]
    }
   ],
   "source": [
    "#Then we predict\n",
    "train_pred = reg.predict(xTraining)\n",
    "print(\"Here is the training prediction: \")\n",
    "print(train_pred)\n",
    "print(\"\\n\")\n",
    "test_pred = reg.predict(xTesting) \n",
    "print(\"Here is the testing prediction: \")\n",
    "print(test_pred)\n",
    "print(\"\\n\")"
   ]
  },
  {
   "cell_type": "code",
   "execution_count": 336,
   "metadata": {
    "scrolled": false
   },
   "outputs": [
    {
     "name": "stdout",
     "output_type": "stream",
     "text": [
      "                      Coeffecient\n",
      "fixed acidity            0.017737\n",
      "volatile acidity        -0.992560\n",
      "citric acid             -0.139629\n",
      "chlorides               -1.590943\n",
      "free sulfur dioxide      0.005597\n",
      "total sulfur dioxide    -0.003520\n",
      "density                  0.768590\n",
      "pH                      -0.437414\n",
      "sulphates                0.812888\n",
      "alcohol                  0.301484\n",
      "\n",
      "\n",
      "RMSE Training:  0.6525240995947054\n",
      "RMSE Testing:  0.6275381539230978\n",
      "\n",
      "Predicted Data: \n",
      " [5. 6. 6. 6. 5. 5. 5. 6. 6. 6. 6. 5. 5. 5. 6. 5. 6. 5. 6. 6. 6. 6. 6. 5.\n",
      " 5. 5. 5. 7. 6. 6. 6. 6. 5. 6. 5. 6. 7. 5. 5. 6. 5. 5. 6. 5. 5. 6. 6. 5.\n",
      " 5. 5. 5. 6. 6. 6. 5. 5. 5. 5. 5. 5. 5. 5. 5. 6. 6. 7. 5. 6. 5. 6. 6. 6.\n",
      " 6. 5. 6. 6. 5. 6. 6. 6. 6. 5. 5. 6. 6. 5. 5. 6. 6. 6. 6. 6. 6. 5. 5. 5.\n",
      " 5. 5. 5. 7. 6. 6. 6. 6. 6. 5. 5. 5. 5. 6. 6. 5. 6. 6. 5. 5. 5. 5. 6. 6.\n",
      " 6. 5. 5. 5. 6. 6. 6. 6. 5. 5. 5. 5. 6. 6. 7. 6. 6. 6. 5. 5. 6. 7. 5. 5.\n",
      " 6. 5. 6. 6. 7. 5. 5. 5. 6. 5. 5. 6. 6. 5. 5. 6. 6. 6. 6. 6. 6. 5. 6. 5.\n",
      " 5. 6. 6. 7. 5. 6. 6. 5. 6. 6. 5. 6. 7. 5. 6. 6. 6. 6. 6. 5. 6. 6. 6. 7.\n",
      " 5. 5. 5. 5. 5. 6. 6. 5. 5. 5. 6. 6. 5. 6. 5. 6. 5. 5. 6. 6. 6. 6. 6. 6.\n",
      " 6. 5. 5. 5. 5. 5. 6. 5. 6. 5. 7. 5. 5. 5. 6. 6. 5. 6. 5. 5. 5. 6. 6. 5.\n",
      " 6. 6. 6. 5. 7. 6. 6. 5. 5. 6. 5. 5. 6. 5. 6. 5. 6. 5. 6. 5. 6. 6. 6. 6.\n",
      " 5. 6. 5. 6. 5. 5. 6. 5. 6. 6. 6. 6. 5. 5. 5. 5. 6. 5. 5. 6. 5. 6. 5. 5.\n",
      " 5. 6. 5. 7. 5. 5. 6. 6. 5. 6. 7. 7. 6. 6. 6. 6. 6. 6. 5. 6. 5. 5. 6. 5.\n",
      " 6. 6. 6. 5. 5. 6. 5. 5. 6. 6. 7. 5. 5. 5. 6. 5. 6. 5. 5. 5. 5. 5. 5. 5.\n",
      " 6. 6. 6. 6. 6. 6. 6. 5. 6. 6. 6. 5. 6. 6. 6. 5. 6. 5. 5. 5. 6. 5. 6. 5.\n",
      " 7. 5. 5. 6. 6. 5. 6. 6. 5. 5. 5. 5. 6. 5. 5. 5. 5. 6. 5. 5. 6. 5. 5. 5.\n",
      " 6. 6. 7. 6. 6. 6. 6. 6. 6. 6. 5. 5. 6. 5. 6. 5.]\n",
      "Mean Absolute Error: 0.48443407559847146\n",
      "Mean Squared Error: 0.39380413462920955\n",
      "Root Mean Squared Error: 0.6275381539230978\n"
     ]
    }
   ],
   "source": [
    "# The coeffecients of each feature\n",
    "coeffecients = pd.DataFrame(reg.coef_,features)\n",
    "coeffecients.columns = ['Coeffecient'] \n",
    "print(coeffecients)\n",
    "print(\"\\n\")\n",
    "#RMSE calculation\n",
    "train_rmse = metrics.mean_squared_error(train_pred, yTraining) ** 0.5\n",
    "print(\"RMSE Training: \",train_rmse)\n",
    "print(\"RMSE Testing: \",test_rmse)\n",
    "test_rmse = metrics.mean_squared_error(test_pred, yTesting) ** 0.5\n",
    "predicted_data = np.round_(test_pred)\n",
    "print(\"\\nPredicted Data: \\n\", predicted_data)\n",
    "print('Mean Absolute Error:', metrics.mean_absolute_error(yTesting, test_pred))\n",
    "print('Mean Squared Error:', metrics.mean_squared_error(yTesting, test_pred))\n",
    "print('Root Mean Squared Error:', np.sqrt(metrics.mean_squared_error(yTesting, test_pred)))"
   ]
  },
  {
   "cell_type": "code",
   "execution_count": null,
   "metadata": {},
   "outputs": [],
   "source": [
    "# We have to also check if the final regression line fits the assumptions of linear regression\n",
    "# Let's see if the error terms are normally distributed!"
   ]
  },
  {
   "cell_type": "code",
   "execution_count": 348,
   "metadata": {},
   "outputs": [
    {
     "data": {
      "text/plain": [
       "Text(0.5, 0, 'Errors')"
      ]
     },
     "execution_count": 348,
     "metadata": {},
     "output_type": "execute_result"
    },
    {
     "data": {
      "image/png": "[encoded data removed]",
      "text/plain": [
       "<Figure size 432x288 with 1 Axes>"
      ]
     },
     "metadata": {
      "needs_background": "light"
     },
     "output_type": "display_data"
    }
   ],
   "source": [
    "res = yTraining-train_pred\n",
    "fig = plt.figure()\n",
    "sns.histplot(res, label=\"100% Equities\", kde=True, stat=\"density\", linewidth=0)\n",
    "fig.suptitle('Error Terms', fontsize = 20)                  \n",
    "plt.xlabel('Errors', fontsize = 18)"
   ]
  },
  {
   "cell_type": "markdown",
   "metadata": {},
   "source": [
    "# Analysis\n",
    "## Feature/Coefficients\n",
    "---------------------------------\n",
    "<pre>\n",
    "fixed acidity            0.017737 <br/>\n",
    "volatile acidity        -0.992560 <br/>\n",
    "citric acid             -0.139629 <br/>\n",
    "chlorides               -1.590943 <br/>\n",
    "free sulfur dioxide      0.005597 <br/>\n",
    "total sulfur dioxide    -0.003520 <br/>\n",
    "density                  0.768590 <br/>\n",
    "pH                      -0.437414 <br/>\n",
    "sulphates                0.812888 <br/>\n",
    "alcohol                  0.301484 <br/>\n",
    "</pre>\n",
    "- After applying the findFeature function with a threshold of 0.05, we can see that all of the features except residual sugar were chosen.\n",
    "- After training the data I calcualted the root mean squared error for the training and the testing. To verify that this is a good model, we can see if the two values are as close as possible. If the testing is much higher, than the data hasn't been fit properly. This is why RMSE was used. \n",
    "- The RMSE Training gave us 0.6525 whereas the RMSE Testing gave a value of 0.6275 which is very close.\n",
    "- The coefficients displayed above show the increased/decreased factor of wine quality from each feature.\n",
    "    - For example: each unit of ph increase will decrease the wine quality by 0.437414\n",
    "    - Another example: each unit of sulphate increase will also increase the wine quality by 0.81288\n",
    "    - And so on for each feature!\n",
    "- The final part allowed us to test for assumptions of linear regression. One assumption we tested for was to check if the error terms are normally distributed. We can see the last graph above proves this. \n"
   ]
  },
  {
   "cell_type": "markdown",
   "metadata": {},
   "source": [
    "# Conclusion\n",
    "- After seeing the results, we can see some of the features had a positive impact in wine quality while others had a negative impact.\n",
    "- Positive\n",
    "    - fixed acidity\n",
    "    - free sulfur dioxide\n",
    "    - density\n",
    "    - sulphates\n",
    "    - alcohol\n",
    "- Negative\n",
    "    - volatile acidity\n",
    "    - citric acid\n",
    "    - chlorides\n",
    "    - total sulfur dioxide\n",
    "    - pH\n",
    "- Overall, I think this regression model provides alot of vital information regarding how each of these elements listed above impact wine quality. I think the strengths of this model is the implementation of RMSE. Through my research for this problem, I found that the root-mean-square error is used to measure the difference between the values of the model that are predicted and the values that are actually observed. Since we can see that the training and test set values are very similiar. However, I think a weakness towards this model is that there aren't specific checks towards the relations between the features themselves. Meaning the independent variables could be corelated. With this in mind, future implementations could be to test for multicollinearity and also analyze the data further through PCA. "
   ]
  }
 ],
 "metadata": {
  "kernelspec": {
   "display_name": "Python 3 (ipykernel)",
   "language": "python",
   "name": "python3"
  },
  "language_info": {
   "codemirror_mode": {
    "name": "ipython",
    "version": 3
   },
   "file_extension": ".py",
   "mimetype": "text/x-python",
   "name": "python",
   "nbconvert_exporter": "python",
   "pygments_lexer": "ipython3",
   "version": "3.9.7"
  }
 },
 "nbformat": 4,
 "nbformat_minor": 4
}
